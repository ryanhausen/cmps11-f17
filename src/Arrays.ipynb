{
 "cells": [
  {
   "cell_type": "code",
   "execution_count": 5,
   "metadata": {},
   "outputs": [
    {
     "data": {
      "text/html": [
       "<html><style>\n",
       "  tr, th {text-align: center !important;}\n",
       "</style></html>"
      ]
     },
     "execution_count": 5,
     "metadata": {},
     "output_type": "execute_result"
    }
   ],
   "source": [
    "%%html\n",
    "<style>\n",
    "  tr, th {text-align: center !important;}\n",
    "</style>"
   ]
  },
  {
   "cell_type": "markdown",
   "metadata": {},
   "source": [
    "# Array Tutorial\n",
    "\n",
    "Arrays are a data structure we can use in Java to store some values. There is a more comprehensive tutorial in the [Java docs](https://docs.oracle.com/javase/tutorial/java/nutsandbolts/arrays.html)\n",
    "\n",
    "You can think of an array as a bunch of containers where we can put things. To keep track of which item is which, we give each container an index. Sort of like this:\n",
    "\n",
    "| index | 0 | 1 | 2 | 3 |\n",
    "|---|---|---|---|---|\n",
    "| value | item1 | item2 | item3 | item4 |\n",
    "\n",
    "This array has 4 items, each with their own index. Something important to note is that for our index we start counting with the number 0. This is true for all arrays in Java.\n",
    "\n",
    "An array can be declared using the following syntax:\n",
    "\n",
    "\n",
    "``` java\n",
    "type[] variableName;\n",
    "```\n",
    "\n",
    "Where type tells the JVM what kind of array we would like to make.\n",
    "\n",
    "A few examples:\n",
    "\n",
    "```java\n",
    "int[] numberArray;\n",
    "String[] wordArray;\n",
    "double[] doubleArray;\n",
    "```\n",
    "\n",
    "There are a couple ways to initialize an array. The first is to initialize the array and its values.\n",
    "\n",
    "\n",
    "```java\n",
    "String[] wordArray = {\"Java\", \"is\", \"really\", \"great!\"};\n",
    "```\n",
    "This array looks like this:\n",
    "\n",
    "| index | 0 | 1 | 2 | 3 |\n",
    "|---|---|---|---|---|\n",
    "| value | `\"Java\"` | `\"is\"` | `\"really\"` | `\"great!\"` |\n",
    "\n",
    "\n",
    "The second is to initialize and empty array with a certain number of available spots:\n",
    "\n",
    "```java\n",
    "String[] wordArray = new String[4];\n",
    "```\n",
    "\n",
    "This array looks like this:\n",
    "\n",
    "| index | 0 | 1 | 2 | 3 |\n",
    "|---|---|---|---|---|\n",
    "| value | *null* | *null* | *null* | *null* |\n",
    "\n",
    "Notice that we have't place any Strings into our array yet, so the values show as *null*, which is how we say nothing/empty in Java.\n",
    "\n",
    "To initialize values in our array we refer to the spot in the array we would like to use by its index. If we wanted to fill the first spot in our array with the String `\"Java\"`, we would use the following:\n",
    "\n",
    "```java\n",
    "wordArray[0] = \"Java\";\n",
    "```\n",
    "\n",
    "Our array now looks like this:\n",
    "\n",
    "| index | 0 | 1 | 2 | 3 |\n",
    "|---|---|---|---|---|\n",
    "| value | `\"Java\"` | *null* | *null* | *null* |\n",
    "\n",
    "\n",
    "An important note here is that the array variable `wordArray` still has a length of 4. Even though all of the values haven't been populated there is room for values."
   ]
  },
  {
   "cell_type": "code",
   "execution_count": 27,
   "metadata": {},
   "outputs": [
    {
     "name": "stdout",
     "output_type": "stream",
     "text": [
      "Java\n",
      "null\n",
      "null\n",
      "null\n"
     ]
    },
    {
     "data": {
      "text/plain": [
       "null"
      ]
     },
     "execution_count": 27,
     "metadata": {},
     "output_type": "execute_result"
    }
   ],
   "source": [
    "String[] wordArray = new String[4];\n",
    "wordArray[0] = \"Java\";\n",
    "\n",
    "for (int i = 0; i < wordArray.length; i++)\n",
    "    System.out.println(wordArray[i]);"
   ]
  },
  {
   "cell_type": "markdown",
   "metadata": {},
   "source": [
    "Now lets try for a more complex exmaple. We'll use two arrays. One with the numbers 1 through 10 and another with the String values `\"The number is even\"` and `\"The number is odd\"`. \n",
    "\n",
    "First lets populate our array of numbers. Because there are so many values, we'll use a `for` loop to populate the array, rather than write out every single value. "
   ]
  },
  {
   "cell_type": "code",
   "execution_count": null,
   "metadata": {},
   "outputs": [],
   "source": [
    "int[] numberArray = new int[10];\n",
    "\n",
    "for (int i = 1; i <= 10; i++)\n",
    "    int arrayIndex = i - 1;\n",
    "    int arrayValue = i;\n",
    "    \n",
    "    int[arrayIndex] = arrayValue;"
   ]
  },
  {
   "cell_type": "markdown",
   "metadata": {},
   "source": [
    "Notice that `i` starts at `1`, but remember that array indexes start at `0`. So we have to store the first value at the zeroth index, the second value at the first index, and so forth. It could have just as easily been done the other way, like this:"
   ]
  },
  {
   "cell_type": "code",
   "execution_count": 17,
   "metadata": {},
   "outputs": [
    {
     "data": {
      "text/plain": [
       "null"
      ]
     },
     "execution_count": 17,
     "metadata": {},
     "output_type": "execute_result"
    }
   ],
   "source": [
    "int[] numberArray = new int[10];\n",
    "\n",
    "for (int i = 0; i < 10; i++){\n",
    "    int arrayIndex = i;\n",
    "    int arrayValue = i + 1;\n",
    "    \n",
    "    numberArray[arrayIndex] = arrayValue;\n",
    "}    \n"
   ]
  },
  {
   "cell_type": "markdown",
   "metadata": {},
   "source": [
    "For the String array we can initialize the array and the values at the same time."
   ]
  },
  {
   "cell_type": "code",
   "execution_count": 18,
   "metadata": {},
   "outputs": [
    {
     "data": {
      "text/plain": [
       "null"
      ]
     },
     "execution_count": 18,
     "metadata": {},
     "output_type": "execute_result"
    }
   ],
   "source": [
    "String[] wordArray = {\"The number is even\", \"The number is odd\"};"
   ]
  },
  {
   "cell_type": "markdown",
   "metadata": {},
   "source": [
    "So far we two arrays `numberArray` and `wordArray` which have contents that look like this:\n",
    "\n",
    "`numberArray`:\n",
    "\n",
    "| index | 0 | 1 | 2 | 3 | 4  | 5 | 6 | 7 | 8 | 9  |\n",
    "|-------|---|---|---|---|----|---|---|---|---|----|\n",
    "| value | 1 | 2 | 3 | 4 | 5  | 6 | 7 | 8 | 9 | 10 |\n",
    "\n",
    "`wordArray`:\n",
    "\n",
    "| index | 0                  | 1                 |\n",
    "|-------|--------------------|-------------------|\n",
    "| value | The number is even | The number is odd |\n",
    "\n",
    "Now to accomplish our goal of printing out the numbers one through ten and printing whether or not that number is even, we can use a `for` loop with some conditional statments."
   ]
  },
  {
   "cell_type": "code",
   "execution_count": 26,
   "metadata": {},
   "outputs": [
    {
     "name": "stdout",
     "output_type": "stream",
     "text": [
      "The number at index 0 is 1\n",
      "Which is an odd number.\n",
      "\n",
      "The number at index 1 is 2\n",
      "Which is an even number.\n",
      "\n",
      "The number at index 2 is 3\n",
      "Which is an odd number.\n",
      "\n",
      "The number at index 3 is 4\n",
      "Which is an even number.\n",
      "\n",
      "The number at index 4 is 5\n",
      "Which is an odd number.\n",
      "\n",
      "The number at index 5 is 6\n",
      "Which is an even number.\n",
      "\n",
      "The number at index 6 is 7\n",
      "Which is an odd number.\n",
      "\n",
      "The number at index 7 is 8\n",
      "Which is an even number.\n",
      "\n",
      "The number at index 8 is 9\n",
      "Which is an odd number.\n",
      "\n",
      "The number at index 9 is 10\n",
      "Which is an even number.\n",
      "\n"
     ]
    },
    {
     "data": {
      "text/plain": [
       "null"
      ]
     },
     "execution_count": 26,
     "metadata": {},
     "output_type": "execute_result"
    }
   ],
   "source": [
    "int[] numberArray = new int[10];\n",
    "\n",
    "for (int i = 0; i < 10; i++){\n",
    "    int arrayIndex = i;\n",
    "    int arrayValue = i + 1;\n",
    "    \n",
    "    numberArray[arrayIndex] = arrayValue;\n",
    "}    \n",
    "\n",
    "String[] wordArray = {\"The number is even\", \"The number is odd\"};\n",
    "\n",
    "for (int i = 0; i < numberArray.length; i++){\n",
    "    int number = numberArray[i];\n",
    "    String message = \"The number at index \" + i + \" is \" + number;\n",
    "    System.out.println(message);\n",
    "    \n",
    "    // if a number, when divided by 2, has no remainder, it is even.\n",
    "    if (number % 2 == 0)\n",
    "        System.out.println(\"which is an even number.\");\n",
    "    // if a number is not even, its odd\n",
    "    else\n",
    "        System.out.println(\"which is an odd number.\");\n",
    "    \n",
    "    // print a blank line to spread out our output\n",
    "    // for readability\n",
    "    System.out.println();\n",
    "}\n"
   ]
  }
 ],
 "metadata": {
  "kernelspec": {
   "display_name": "Java",
   "language": "java",
   "name": "java"
  },
  "language_info": {
   "codemirror_mode": "text/x-java",
   "file_extension": ".java",
   "mimetype": "",
   "name": "Java",
   "nbconverter_exporter": "",
   "version": "1.8.0_121"
  }
 },
 "nbformat": 4,
 "nbformat_minor": 2
}
