{
 "cells": [
  {
   "cell_type": "markdown",
   "metadata": {},
   "source": [
    "# Scanner Tutorial \n",
    "\n",
    "There are dozens of tutorials online including the one included with the Scanner [documentation](https://docs.oracle.com/javase/7/docs/api/java/util/Scanner.html)(which I lean heavily on here) provided by Oracle.\n",
    "\n",
    "This will cover some basic examples.\n",
    "\n",
    "\n",
    "### What is the Scanner class?\n",
    "\n",
    "The Scanner class is tool that makes it simple to parse text data. \n",
    "\n",
    "All it needs to know is where it can find the text data. We tell the Scanner class where the data is when we create it. \n",
    "\n",
    "```\n",
    "Scanner scan = new Scanner(whereTheDataIs);\n",
    "\n",
    "```\n",
    "\n",
    "The source of the data can many a few different things. For example, a text file, the console, or even a String.\n",
    "\n",
    "After we have given it a source it will feed that source to us piece by piece, called tokens.\n",
    "\n",
    "It will give us the pieces one at a time, when we call the `next()` method, in the form of a string. Which we can pass directly in to the `System.out.println()` method. "
   ]
  },
  {
   "cell_type": "code",
   "execution_count": 38,
   "metadata": {},
   "outputs": [
    {
     "name": "stdout",
     "output_type": "stream",
     "text": [
      "Scanner\n",
      "is\n",
      "very\n",
      "helpful!\n"
     ]
    },
    {
     "data": {
      "text/plain": [
       "null"
      ]
     },
     "execution_count": 38,
     "metadata": {},
     "output_type": "execute_result"
    }
   ],
   "source": [
    "// Don't forget to import it at the top of your file\n",
    "import java.util.Scanner;\n",
    "// -------------------------------------------------\n",
    "\n",
    "String test = \"Scanner is very helpful!\";\n",
    "Scanner scan = new Scanner(test);\n",
    "\n",
    "System.out.println(scan.next());\n",
    "System.out.println(scan.next());\n",
    "System.out.println(scan.next());\n",
    "System.out.println(scan.next());"
   ]
  },
  {
   "cell_type": "markdown",
   "metadata": {},
   "source": [
    "### How does the Scanner know what to give me when I use `scan.next()`?\n",
    "\n",
    "The Scanner object will break the text data into tokens. It decides where these tokens will start and end by something called a delimiter. The delimiter is one or more characters that the Scanner uses to break input data in tokens. By default, the delimiter for the Scanner class is all whitespace characters, which includes the following:\n",
    "\n",
    "- Space: `' '` or `'\\s'`\n",
    "- Tab: `'\\t'`\n",
    "- New Line: `'\\n'`, `'\\r'`, `\"\\r\\n\"` (This varies by OS, not something you need to worry about)\n",
    "\n",
    "This means that the following inputs would all give the same output by the Scanner class:\n",
    "\n",
    "<br>\n",
    "\n",
    "`\"Scanner is very helpful!\"`, which to us looks like:\n",
    "\n",
    "`Scanner is very helpful!`\n",
    "\n",
    "<br>\n",
    "\n",
    "`\"Scanner\\nis\\nvery\\nhelpful!\"`,(notice the \\n new line character) which to us looks like:\n",
    "\n",
    "```\n",
    "Scanner\n",
    "is\n",
    "very\n",
    "helpful\n",
    "\n",
    "```\n",
    "\n",
    "<br>\n",
    "\n",
    "`\"Scanner\\tis\\nvery\\thelpful!\"`, (notice the \\n and \\t tab characters) which to us looks like:\n",
    "\n",
    "```\n",
    "Scanner is\n",
    "very    helpful!\n",
    "```"
   ]
  },
  {
   "cell_type": "code",
   "execution_count": 37,
   "metadata": {},
   "outputs": [
    {
     "name": "stdout",
     "output_type": "stream",
     "text": [
      "The string 'test' looks like:\n",
      "Scanner\n",
      "is\n",
      "very\n",
      "helpful!\n",
      "\n",
      "The Scanner class reads it as:\n",
      "Scanner\n",
      "is\n",
      "very\n",
      "helpful!\n"
     ]
    },
    {
     "data": {
      "text/plain": [
       "null"
      ]
     },
     "execution_count": 37,
     "metadata": {},
     "output_type": "execute_result"
    }
   ],
   "source": [
    "import java.util.Scanner;\n",
    "\n",
    "\n",
    "String test = \"Scanner\\nis\\nvery\\nhelpful!\";\n",
    "\n",
    "System.out.println(\"The string 'test' looks like:\");\n",
    "System.out.println(test);\n",
    "System.out.println();//This will print an empty line to separate out outputs\n",
    "\n",
    "Scanner scan = new Scanner(test);\n",
    "\n",
    "System.out.println(\"The Scanner class reads it as:\");\n",
    "System.out.println(scan.next());\n",
    "System.out.println(scan.next());\n",
    "System.out.println(scan.next());\n",
    "System.out.println(scan.next());"
   ]
  },
  {
   "cell_type": "code",
   "execution_count": 36,
   "metadata": {},
   "outputs": [
    {
     "name": "stdout",
     "output_type": "stream",
     "text": [
      "The string 'test' looks like:\n",
      "Scanner\tis\n",
      "very\thelpful!\n",
      "\n",
      "The Scanner class reads it as:\n",
      "Scanner\n",
      "is\n",
      "very\n",
      "helpful!\n"
     ]
    },
    {
     "data": {
      "text/plain": [
       "null"
      ]
     },
     "execution_count": 36,
     "metadata": {},
     "output_type": "execute_result"
    }
   ],
   "source": [
    "import java.util.Scanner;\n",
    "\n",
    "\n",
    "String test = \"Scanner\\tis\\nvery\\thelpful!\";\n",
    "\n",
    "System.out.println(\"The string 'test' looks like:\");\n",
    "System.out.println(test);\n",
    "System.out.println();//This will print an empty line to separate out outputs\n",
    "\n",
    "Scanner scan = new Scanner(test);\n",
    "\n",
    "System.out.println(\"The Scanner class reads it as:\");\n",
    "System.out.println(scan.next());\n",
    "System.out.println(scan.next());\n",
    "System.out.println(scan.next());\n",
    "System.out.println(scan.next());"
   ]
  },
  {
   "cell_type": "markdown",
   "metadata": {},
   "source": [
    "### Getting different types other than String\n",
    "\n",
    "It's important to note that so far the Scanner class has returned only strings to us.  If we want other types we need to tell it explicity that we want the next token as a different type. We can do that with the following methods (there are more than these):\n",
    "\n",
    "- `Scanner.nextBoolean()` will interperet the token as a `boolean`\n",
    "- `Scanner.nextInt()` will interperet the token as a `int`\n",
    "- `Scanner.nextDouble()` will interperet the token as a `double`\n",
    "\n",
    "For example. we can add two numbers using the Scanner class"
   ]
  },
  {
   "cell_type": "code",
   "execution_count": 35,
   "metadata": {},
   "outputs": [
    {
     "name": "stdout",
     "output_type": "stream",
     "text": [
      "7\n"
     ]
    },
    {
     "data": {
      "text/plain": [
       "null"
      ]
     },
     "execution_count": 35,
     "metadata": {},
     "output_type": "execute_result"
    }
   ],
   "source": [
    "import java.util.Scanner;\n",
    "\n",
    "String test = \"3 4\";\n",
    "\n",
    "Scanner scan = new Scanner(test);\n",
    "\n",
    "int number1 = scan.nextInt();\n",
    "int number2 = scan.nextInt();\n",
    "\n",
    "System.out.println(number1 + number2);"
   ]
  },
  {
   "cell_type": "markdown",
   "metadata": {},
   "source": [
    "### What about user input?\n",
    "\n",
    "We can tell the Scanner object to use user input from the terminal by telling the Scanner thats where the data is when we create it.\n",
    "\n",
    "`Scanner scan = new Scanner(System.in);`\n",
    "\n",
    "The nice thing about the Scanner class is that's all that we need to change. We can run our code just the same. "
   ]
  }
 ],
 "metadata": {
  "kernelspec": {
   "display_name": "Java",
   "language": "java",
   "name": "java"
  },
  "language_info": {
   "codemirror_mode": "text/x-java",
   "file_extension": ".java",
   "mimetype": "",
   "name": "Java",
   "nbconverter_exporter": "",
   "version": "1.8.0_121"
  }
 },
 "nbformat": 4,
 "nbformat_minor": 2
}
