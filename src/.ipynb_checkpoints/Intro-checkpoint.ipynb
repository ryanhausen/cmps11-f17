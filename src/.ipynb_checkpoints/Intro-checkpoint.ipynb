{
 "cells": [
  {
   "cell_type": "markdown",
   "metadata": {},
   "source": [
    "# You will need the following for this course:\n",
    "\n",
    "1. [Java](http://www.oracle.com/technetwork/java/javase/downloads/index.html) (Java 8 recommended)\n",
    "2. [Eclipse](https://www.eclipse.org/downloads/eclipse-packages/) (Eclipse IDE for Java Developers)\n",
    "\n",
    "### Create a simple project to check that your installation was successful\n",
    "\n",
    "[Here](http://www.cs.umd.edu/class/fall2005/cmsc132/EclipseTutorial/project.html) are some instructions that use an older version of Eclipse, however the steps should be the same.\n",
    "\n",
    "### Write a simple program and run it\n",
    "\n",
    "```\n",
    "public class HelloWorld{\n",
    "    public static void main(String[] args){\n",
    "        System.out.println(\"Hello World!\");\n",
    "    }\n",
    "}\n",
    "```\n",
    "You should see `Hello World!` in your output console."
   ]
  }
 ],
 "metadata": {
  "kernelspec": {
   "display_name": "Java",
   "language": "java",
   "name": "java"
  },
  "language_info": {
   "codemirror_mode": "text/x-java",
   "file_extension": ".java",
   "mimetype": "",
   "name": "Java",
   "nbconverter_exporter": "",
   "version": "1.8.0_121"
  }
 },
 "nbformat": 4,
 "nbformat_minor": 2
}
